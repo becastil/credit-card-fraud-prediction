{
 "cells": [
  {
   "cell_type": "code",
   "execution_count": 20,
   "id": "a4ac1c5d-dec4-4d4a-94cf-3174e0b1109a",
   "metadata": {},
   "outputs": [],
   "source": [
    "import seaborn as sns\n",
    "import pandas as pd\n",
    "import numpy as np\n",
    "import matplotlib.pyplot as plt\n",
    "\n",
    "from sklearn.linear_model import LogisticRegression\n",
    "from sklearn.model_selection import train_test_split\n",
    "from sklearn.preprocessing import StandardScaler"
   ]
  },
  {
   "cell_type": "code",
   "execution_count": 21,
   "id": "6b0afa7c-cf36-4bea-acac-644de072b4e6",
   "metadata": {},
   "outputs": [
    {
     "name": "stdout",
     "output_type": "stream",
     "text": [
      "Number of fraudulent transactions: 282\n",
      "\n",
      "Dataset info:\n",
      "<class 'pandas.core.frame.DataFrame'>\n",
      "RangeIndex: 199999 entries, 0 to 199998\n",
      "Data columns (total 10 columns):\n",
      " #   Column          Non-Null Count   Dtype  \n",
      "---  ------          --------------   -----  \n",
      " 0   step            199999 non-null  int64  \n",
      " 1   type            199999 non-null  object \n",
      " 2   amount          199999 non-null  float64\n",
      " 3   nameOrig        199999 non-null  object \n",
      " 4   oldbalanceOrg   199999 non-null  float64\n",
      " 5   newbalanceOrig  199999 non-null  float64\n",
      " 6   nameDest        199999 non-null  object \n",
      " 7   oldbalanceDest  199999 non-null  float64\n",
      " 8   newbalanceDest  199999 non-null  float64\n",
      " 9   isFraud         199999 non-null  int64  \n",
      "dtypes: float64(5), int64(2), object(3)\n",
      "memory usage: 15.3+ MB\n",
      "None\n"
     ]
    }
   ],
   "source": [
    "# Step 1\n",
    "# Load the smaller data set\n",
    "# transactions = pd.read_csv(r\"C:\\Users\\becas\\OneDrive\\Documents\\credit-card-fraud-prediction\\transactions_modified_credit_card_fraud_prediction.csv\")\n",
    "# Load the larger data set\n",
    "transactions = pd.read_csv(r\"C:\\Users\\becas\\OneDrive\\Documents\\credit-card-fraud-prediction\\Large_transactions_modified_credit_card_fraud_prediction.csv\")\n",
    "\n",
    "print('Number of fraudulent transactions:', transactions['isFraud'].sum())\n",
    "\n",
    "# Preview the first 5 rows\n",
    "# print(\"First five rows of the dataset:\")\n",
    "# print(transactions.head())\n",
    "\n",
    "# Get info about the dataset\n",
    "print(\"\\nDataset info:\")\n",
    "print(transactions.info())"
   ]
  },
  {
   "cell_type": "code",
   "execution_count": 22,
   "id": "4b099746-e81a-476c-86eb-8a81e1a6e30b",
   "metadata": {},
   "outputs": [
    {
     "name": "stdout",
     "output_type": "stream",
     "text": [
      "count    1.999990e+05\n",
      "mean     1.802425e+05\n",
      "std      6.255482e+05\n",
      "min      0.000000e+00\n",
      "25%      1.338746e+04\n",
      "50%      7.426695e+04\n",
      "75%      2.086376e+05\n",
      "max      5.204280e+07\n",
      "Name: amount, dtype: float64\n"
     ]
    }
   ],
   "source": [
    "# Step 2\n",
    "print(transactions['amount'].describe())"
   ]
  },
  {
   "cell_type": "code",
   "execution_count": 23,
   "id": "46b0c06f-bc98-40c8-ab70-d4123a4c58eb",
   "metadata": {},
   "outputs": [],
   "source": [
    "# Step 3\n",
    "# Start by creating the column and setting all values to 0\n",
    "transactions['isPayment'] = 0\n",
    "\n",
    "# Then set it to 1 where type is PAYMENT or DEBIT\n",
    "transactions.loc[transactions['type'] == 'PAYMENT', 'isPayment'] = 1\n",
    "transactions.loc[transactions['type'] == 'DEBIT', 'isPayment'] = 1\n"
   ]
  },
  {
   "cell_type": "code",
   "execution_count": 24,
   "id": "5457321c-8888-469a-ba32-83c6cd984fc0",
   "metadata": {},
   "outputs": [],
   "source": [
    "# Step 4\n",
    "transactions['isMovement'] = 0\n",
    "transactions.loc[transactions['type'] == 'CASH_OUT', 'isMovement'] = 1\n",
    "transactions.loc[transactions['type'] == 'TRANSFER', 'isMovement'] = 1"
   ]
  },
  {
   "cell_type": "code",
   "execution_count": 25,
   "id": "28f1042c-ab93-4f13-8d56-146fb5c30571",
   "metadata": {},
   "outputs": [],
   "source": [
    "# Step 5 \n",
    "transactions['accountDiff'] = abs(transactions['oldbalanceOrg'] - transactions['oldbalanceDest'])"
   ]
  },
  {
   "cell_type": "code",
   "execution_count": 26,
   "id": "7366400e-9808-4d15-9eb6-d142b7e4789c",
   "metadata": {},
   "outputs": [],
   "source": [
    "# Step 6\n",
    "features = transactions[['amount','isPayment','isMovement', 'accountDiff']]\n",
    "label = transactions['isFraud']"
   ]
  },
  {
   "cell_type": "code",
   "execution_count": 27,
   "id": "962e276f-e20c-40c3-8d10-476f76a26395",
   "metadata": {},
   "outputs": [],
   "source": [
    "# Step 7\n",
    "X_train, X_test, y_train, y_test = train_test_split(features, label, test_size = 0.3, random_state = 42)"
   ]
  },
  {
   "cell_type": "code",
   "execution_count": 28,
   "id": "b1959cfb-53c1-4277-b1f0-53ee8a81afb5",
   "metadata": {},
   "outputs": [],
   "source": [
    "# Step 8\n",
    "scaler = StandardScaler()\n",
    "X_train_scaled = scaler.fit_transform(X_train)\n",
    "X_test_scaled = scaler.transform(X_test)"
   ]
  },
  {
   "cell_type": "code",
   "execution_count": 29,
   "id": "aaa1a06d-f3aa-43fa-bcfe-14401ac80e39",
   "metadata": {},
   "outputs": [
    {
     "name": "stdout",
     "output_type": "stream",
     "text": [
      "Model training complete!\n"
     ]
    }
   ],
   "source": [
    "# Step 9\n",
    "model = LogisticRegression()\n",
    "model.fit(X_train_scaled, y_train)\n",
    "print(\"Model training complete!\")"
   ]
  },
  {
   "cell_type": "code",
   "execution_count": 30,
   "id": "ab6345ed-4625-42a9-b7a8-a0b79a33bc4e",
   "metadata": {},
   "outputs": [
    {
     "name": "stdout",
     "output_type": "stream",
     "text": [
      "How well does the model do on the training data?\n",
      "Training accuracy: 99.86 %\n"
     ]
    }
   ],
   "source": [
    "# Step 10\n",
    "train_score = model.score(X_train_scaled, y_train)\n",
    "print(\"How well does the model do on the training data?\")\n",
    "print(\"Training accuracy:\", round(train_score * 100, 2), \"%\")"
   ]
  },
  {
   "cell_type": "code",
   "execution_count": 31,
   "id": "3a9699ac-bb09-45db-b8ec-d0d37f9c3f3b",
   "metadata": {},
   "outputs": [
    {
     "name": "stdout",
     "output_type": "stream",
     "text": [
      "Test accuracy: 99.86 %\n"
     ]
    }
   ],
   "source": [
    "# Step 11\n",
    "test_score = model.score(X_test_scaled, y_test)\n",
    "print(\"Test accuracy:\", round(test_score * 100, 2), \"%\")"
   ]
  },
  {
   "cell_type": "code",
   "execution_count": 32,
   "id": "936d3115-dd10-4226-925b-46690a4fb012",
   "metadata": {},
   "outputs": [
    {
     "name": "stdout",
     "output_type": "stream",
     "text": [
      "Feature coefficients: [[ 0.27085886 -0.86017198  2.1629665  -0.93256293]]\n"
     ]
    }
   ],
   "source": [
    "# Step 12\n",
    "print(\"Feature coefficients:\", model.coef_)"
   ]
  },
  {
   "cell_type": "code",
   "execution_count": 33,
   "id": "a133c99b-da53-4526-b31e-d8889e2f2efb",
   "metadata": {},
   "outputs": [
    {
     "name": "stdout",
     "output_type": "stream",
     "text": [
      "Sample transactions ready for prediction.\n"
     ]
    }
   ],
   "source": [
    "# Step 13 \n",
    "# New transaction data\n",
    "transaction1 = np.array([123456.78, 0.0, 1.0, 54670.1])\n",
    "transaction2 = np.array([98765.43, 1.0, 0.0, 8524.75])\n",
    "transaction3 = np.array([543678.31, 1.0, 0.0, 510025.5])\n",
    "\n",
    "# Create your own transaction — feel free to change the values!\n",
    "your_transaction = np.array([25000.00, 0.0, 1.0, 18000.0])\n",
    "\n",
    "print(\"Sample transactions ready for prediction.\")"
   ]
  },
  {
   "cell_type": "code",
   "execution_count": 34,
   "id": "4d4ddcb6-a01b-4708-afff-6cdc01a63413",
   "metadata": {},
   "outputs": [
    {
     "name": "stdout",
     "output_type": "stream",
     "text": [
      "Shape of sample_transactions: (4, 4)\n"
     ]
    }
   ],
   "source": [
    "# Step 14\n",
    "sample_transactions = np.array([\n",
    "    transaction1,\n",
    "    transaction2,\n",
    "    transaction3,\n",
    "    your_transaction\n",
    "])\n",
    "# Optional: check the shape\n",
    "print(\"Shape of sample_transactions:\", sample_transactions.shape)"
   ]
  },
  {
   "cell_type": "code",
   "execution_count": 35,
   "id": "9268d43d-9059-4e7f-adc8-5e3d8bef01da",
   "metadata": {},
   "outputs": [
    {
     "name": "stderr",
     "output_type": "stream",
     "text": [
      "C:\\Users\\becas\\AppData\\Local\\Programs\\Python\\Python312\\Lib\\site-packages\\sklearn\\base.py:493: UserWarning: X does not have valid feature names, but StandardScaler was fitted with feature names\n",
      "  warnings.warn(\n"
     ]
    }
   ],
   "source": [
    "# Step 15\n",
    "sample_transactions = scaler.transform(sample_transactions)"
   ]
  },
  {
   "cell_type": "code",
   "execution_count": 36,
   "id": "70d27618-42a5-421c-9ae4-70616c85cc4d",
   "metadata": {},
   "outputs": [
    {
     "name": "stdout",
     "output_type": "stream",
     "text": [
      "Predicted fraud flags: [0 0 0 0]\n",
      "Fraud probabilities (per transaction):\n",
      "[[9.96528861e-01 3.47113881e-03]\n",
      " [9.99992733e-01 7.26678035e-06]\n",
      " [9.99992107e-01 7.89307951e-06]\n",
      " [9.96650395e-01 3.34960467e-03]]\n"
     ]
    }
   ],
   "source": [
    "# Step 16\n",
    "# Predict if each transaction is fraudulent (1) or not (0)\n",
    "predictions = model.predict(sample_transactions)\n",
    "print(\"Predicted fraud flags:\", predictions)\n",
    "\n",
    "# Get fraud probabilities for each transaction\n",
    "probabilities = model.predict_proba(sample_transactions)\n",
    "print(\"Fraud probabilities (per transaction):\")\n",
    "print(probabilities)"
   ]
  },
  {
   "cell_type": "code",
   "execution_count": 37,
   "id": "53c16983-343a-4429-ad31-faf896fc1102",
   "metadata": {},
   "outputs": [],
   "source": [
    "# Step 17 - return to step one to load the larger data set "
   ]
  }
 ],
 "metadata": {
  "kernelspec": {
   "display_name": "Python 3 (ipykernel)",
   "language": "python",
   "name": "python3"
  },
  "language_info": {
   "codemirror_mode": {
    "name": "ipython",
    "version": 3
   },
   "file_extension": ".py",
   "mimetype": "text/x-python",
   "name": "python",
   "nbconvert_exporter": "python",
   "pygments_lexer": "ipython3",
   "version": "3.12.3"
  }
 },
 "nbformat": 4,
 "nbformat_minor": 5
}
